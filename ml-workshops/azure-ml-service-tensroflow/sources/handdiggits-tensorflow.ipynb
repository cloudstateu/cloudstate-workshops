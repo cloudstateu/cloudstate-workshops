{
  "cells": [
    {
      "metadata": {
        "trusted": true
      },
      "cell_type": "code",
      "source": "%matplotlib inline\nimport os\nimport numpy as np\nimport matplotlib.pyplot as plt\n\nimport tensorflow as tf\n# Import MNIST data\nfrom tensorflow.examples.tutorials.mnist import input_data\n\nimport azureml.core\nfrom azureml.core import Workspace, Experiment, Run\n\n# check core SDK version number\nprint(\"Azure ML SDK Version: \", azureml.core.VERSION)",
      "execution_count": null,
      "outputs": []
    },
    {
      "metadata": {
        "trusted": true
      },
      "cell_type": "code",
      "source": "mnist = input_data.read_data_sets(\"/tmp/data/\", one_hot=True)\nimage_index = 0 # take first test image\nimg = mnist.test.images[image_index]\n\n# draw image\nplt.imshow(img.reshape(28, 28), cmap=plt.cm.binary)\nplt.show()",
      "execution_count": null,
      "outputs": []
    },
    {
      "metadata": {
        "trusted": true
      },
      "cell_type": "code",
      "source": "# load workspace configuration from the config.json file in the current folder.\nws = Workspace.from_config()\nprint(ws.name, ws.location, ws.resource_group, ws.location, sep = '\\t')",
      "execution_count": null,
      "outputs": []
    },
    {
      "metadata": {
        "trusted": true
      },
      "cell_type": "code",
      "source": "experiment_name = 'tensorflow-mnist'\nexperiment = Experiment(workspace=ws, name=experiment_name)",
      "execution_count": null,
      "outputs": []
    },
    {
      "metadata": {
        "trusted": true
      },
      "cell_type": "code",
      "source": "run = experiment.start_logging()\n\n# Parameters\nlearning_rate = 0.01\ntraining_epochs = 25\nbatch_size = 100\ndisplay_step = 1\n\n# tf Graph Input\nx = tf.placeholder(tf.float32, [None, 784]) # mnist data image of shape 28*28=784\ny = tf.placeholder(tf.float32, [None, 10]) # 0-9 digits recognition => 10 classes\n\n# Set model weights\nW = tf.Variable(tf.zeros([784, 10]), name=\"W\")\nb = tf.Variable(tf.zeros([10]), name=\"b\")\n\n# Construct model\npred = tf.nn.softmax(tf.matmul(x, W) + b) # Softmax\n\n# Minimize error using cross entropy\ncost = tf.reduce_mean(-tf.reduce_sum(y*tf.log(pred), reduction_indices=1))\n# Gradient Descent\noptimizer = tf.train.GradientDescentOptimizer(learning_rate).minimize(cost)\n\n# Initialize the variables (i.e. assign their default value)\ninit = tf.global_variables_initializer()\n\n# prepare dir for output model\nos.makedirs('./outputs/model', exist_ok=True)\nsaver = tf.train.Saver()\n\nrun.log(\"Total training epochs: \", training_epochs)\n# Start training\nwith tf.Session() as sess:\n\n    # Run the initializer\n    sess.run(init)\n\n    # Training cycle\n    for epoch in range(training_epochs):\n        avg_cost = 0.\n        total_batch = int(mnist.train.num_examples/batch_size)\n        # Loop over all batches\n        for i in range(total_batch):\n            batch_xs, batch_ys = mnist.train.next_batch(batch_size)\n            # Run optimization op (backprop) and cost op (to get loss value)\n            _, c = sess.run([optimizer, cost], feed_dict={x: batch_xs,\n                                                          y: batch_ys})\n            # Compute average loss\n            avg_cost += c / total_batch\n        # Display logs per epoch step\n        if (epoch+1) % display_step == 0:\n            print(\"Epoch:\", '%04d' % (epoch+1), \"cost=\", \"{:.9f}\".format(avg_cost))\n            run.log(\"Cost\", avg_cost)\n\n    print(\"Optimization Finished!\")\n\n    # Test model\n    correct_prediction = tf.equal(tf.argmax(pred, 1), tf.argmax(y, 1))\n    # Calculate accuracy\n    accuracy = tf.reduce_mean(tf.cast(correct_prediction, tf.float32))\n    print(\"Accuracy:\", accuracy.eval({x: mnist.test.images, y: mnist.test.labels}))\n    \n    saver.save(sess, './outputs/model/mnist-tf.model')\n    for f in os.listdir('./outputs/model'):\n        if f.startswith(\"mnist\") or f.startswith(\"checkpoint\"):\n            run.upload_file(name = 'outputs/model/' + f, path_or_stream = 'outputs/model/' + f)\nrun.complete()",
      "execution_count": null,
      "outputs": []
    },
    {
      "metadata": {
        "trusted": true
      },
      "cell_type": "code",
      "source": "run",
      "execution_count": null,
      "outputs": []
    },
    {
      "metadata": {
        "trusted": true
      },
      "cell_type": "code",
      "source": "model = run.register_model(model_name='tf-dnn-mnist', model_path='outputs/model')",
      "execution_count": null,
      "outputs": []
    },
    {
      "metadata": {
        "trusted": true
      },
      "cell_type": "code",
      "source": "%%writefile score.py\nimport tensorflow as tf\nimport numpy as np\nimport os\nimport json\nfrom azureml.core.model import Model\n\ndef init():\n    global w_out, b_out, sess\n    tf.reset_default_graph()\n    model_root = Model.get_model_path('tf-dnn-mnist')\n    graph = tf.train.import_meta_graph(os.path.join(model_root,'mnist-tf.model.meta'))\n    \n    sess = tf.Session()\n    graph.restore(sess, os.path.join(model_root, 'mnist-tf.model'))\n    w_out, b_out = sess.run([\"W:0\", \"b:0\"])\n\ndef run(raw_data):\n    img = np.array(json.loads(raw_data)['data'])\n    x_out = tf.placeholder(tf.float32, [None, 784]) \n    predictor = tf.nn.softmax(tf.matmul(x_out, w_out) + b_out)   \n\n    classification = sess.run(tf.argmax(predictor, 1), feed_dict={x_out: [img]})\n    return str(classification[0])\n",
      "execution_count": null,
      "outputs": []
    },
    {
      "metadata": {
        "trusted": true
      },
      "cell_type": "code",
      "source": "from azureml.core.runconfig import CondaDependencies\n\ncd = CondaDependencies.create()\ncd.add_conda_package('numpy')\ncd.add_tensorflow_conda_package()\ncd.save_to_file(base_directory='./', conda_file_path='myenv.yml')\n\nprint(cd.serialize_to_string())",
      "execution_count": null,
      "outputs": []
    },
    {
      "metadata": {
        "trusted": true
      },
      "cell_type": "code",
      "source": "from azureml.core.webservice import AciWebservice\n\naciconfig = AciWebservice.deploy_configuration(cpu_cores=1, \n                                               memory_gb=1, \n                                               tags={'name':'mnist', 'framework': 'TensorFlow'},\n                                               description='Tensorflow on MNIST')",
      "execution_count": null,
      "outputs": []
    },
    {
      "metadata": {
        "trusted": true
      },
      "cell_type": "code",
      "source": "from azureml.core.image import ContainerImage\n\nimgconfig = ContainerImage.image_configuration(execution_script=\"score.py\", \n                                               runtime=\"python\", \n                                               conda_file=\"myenv.yml\")",
      "execution_count": null,
      "outputs": []
    },
    {
      "metadata": {
        "trusted": true
      },
      "cell_type": "code",
      "source": "%%time\nfrom azureml.core.webservice import Webservice\n\nservice = Webservice.deploy_from_model(workspace=ws,\n                                       name='tf-mnist-svc',\n                                       deployment_config=aciconfig,\n                                       models=[model],\n                                       image_config=imgconfig)\n\nservice.wait_for_deployment(show_output=True)",
      "execution_count": null,
      "outputs": []
    },
    {
      "metadata": {
        "trusted": true
      },
      "cell_type": "code",
      "source": "import json\n\ntest_samples = json.dumps({\"data\": img.tolist()})\ntest_samples = bytes(test_samples, encoding='utf8')\n\nresult = service.run(input_data=test_samples)\nprint(\"label: \" + str(mnist.test.labels[image_index].argmax()))\nprint(\"prediction: \" + result)",
      "execution_count": null,
      "outputs": []
    },
    {
      "metadata": {
        "trusted": true
      },
      "cell_type": "code",
      "source": "import requests\ninput_data = \"{\\\"data\\\": \" + str(list(img)) + \"}\"\nheaders = {'Content-Type':'application/json'}\n\nresp = requests.post(service.scoring_uri, input_data, headers=headers)\n\nprint(\"POST to url\", service.scoring_uri)\nprint(\"label:\", str(mnist.test.labels[image_index].argmax()))\nprint(\"prediction:\", resp.text)",
      "execution_count": null,
      "outputs": []
    },
    {
      "metadata": {
        "trusted": true
      },
      "cell_type": "code",
      "source": "",
      "execution_count": null,
      "outputs": []
    }
  ],
  "metadata": {
    "kernelspec": {
      "name": "python36",
      "display_name": "Python 3.6",
      "language": "python"
    },
    "language_info": {
      "mimetype": "text/x-python",
      "nbconvert_exporter": "python",
      "name": "python",
      "pygments_lexer": "ipython3",
      "version": "3.6.6",
      "file_extension": ".py",
      "codemirror_mode": {
        "version": 3,
        "name": "ipython"
      }
    }
  },
  "nbformat": 4,
  "nbformat_minor": 2
}